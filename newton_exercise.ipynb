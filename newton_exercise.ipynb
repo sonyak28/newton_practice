{
 "cells": [
  {
   "cell_type": "code",
   "execution_count": 32,
   "id": "6eecae37-800c-4773-bbaa-56f67fa72a5d",
   "metadata": {},
   "outputs": [],
   "source": [
    "import numpy as np\n",
    "import pandas as pd"
   ]
  },
  {
   "cell_type": "code",
   "execution_count": 22,
   "id": "d2c23b7e-548c-4a5d-bc7a-b79d19d3f810",
   "metadata": {},
   "outputs": [],
   "source": [
    "def f(x):\n",
    "    return x ** 3"
   ]
  },
  {
   "cell_type": "code",
   "execution_count": 23,
   "id": "e22b348f-ffd4-4eda-91d8-f106eb7a51fc",
   "metadata": {},
   "outputs": [
    {
     "data": {
      "text/plain": [
       "['.jupyter',\n",
       " '.ipython',\n",
       " '.config',\n",
       " '.local',\n",
       " '.bash_history',\n",
       " '__pycache__',\n",
       " 'newton_practice',\n",
       " '.cache',\n",
       " 'WHERE-ARE-MY-FILES.txt',\n",
       " 'Assignment_2_Named_Entity_Recognition_with_BERT.ipynb',\n",
       " '.gitconfig',\n",
       " 'compute-skills-2025',\n",
       " '.datahub-rstudio',\n",
       " '.rstudio',\n",
       " '.npm',\n",
       " '.ipynb_checkpoints',\n",
       " '.lesshst']"
      ]
     },
     "execution_count": 23,
     "metadata": {},
     "output_type": "execute_result"
    }
   ],
   "source": [
    "import os\n",
    "# Get a list of all files and directories in the current working directory\n",
    "files_and_dirs = os.listdir('.')\n",
    "files_and_dirs\n"
   ]
  },
  {
   "cell_type": "code",
   "execution_count": 27,
   "id": "ea8755f3-77f5-4bde-ac24-b7b41a90a7a1",
   "metadata": {},
   "outputs": [
    {
     "data": {
      "text/plain": [
       "'/home/jovyan/newton_practice'"
      ]
     },
     "execution_count": 27,
     "metadata": {},
     "output_type": "execute_result"
    }
   ],
   "source": [
    "os.getcwd()\n"
   ]
  },
  {
   "cell_type": "code",
   "execution_count": 26,
   "id": "e3e92a3d-8b8e-4af7-9baf-81a29b014f74",
   "metadata": {},
   "outputs": [],
   "source": [
    "os.chdir('/home/jovyan/newton_practice')"
   ]
  },
  {
   "cell_type": "code",
   "execution_count": 28,
   "id": "97959ab7-4690-4dd2-b5d2-33a8c27f0ae5",
   "metadata": {},
   "outputs": [],
   "source": [
    "import newton"
   ]
  },
  {
   "cell_type": "code",
   "execution_count": 29,
   "id": "38b06fb1-0e18-40c3-ad08-5a559eccf911",
   "metadata": {},
   "outputs": [
    {
     "data": {
      "text/plain": [
       "<module 'newton' from '/home/jovyan/newton_practice/newton.py'>"
      ]
     },
     "execution_count": 29,
     "metadata": {},
     "output_type": "execute_result"
    }
   ],
   "source": [
    "from importlib import reload\n",
    "reload(newton)"
   ]
  },
  {
   "cell_type": "code",
   "execution_count": 33,
   "id": "f750a094-7180-4987-ba2f-0ee682bbff96",
   "metadata": {},
   "outputs": [
    {
     "data": {
      "text/plain": [
       "(np.float64(1.5707913267962477),\n",
       " [2.5,\n",
       "  np.float64(1.1613250551992684),\n",
       "  np.float64(1.5953210717049289),\n",
       "  np.float64(1.5707864069543434),\n",
       "  np.float64(1.5707913267962477),\n",
       "  np.float64(1.5707913267962477),\n",
       "  np.float64(1.5707913267962477),\n",
       "  np.float64(1.5707913267962477),\n",
       "  np.float64(1.5707913267962477),\n",
       "  np.float64(1.5707913267962477),\n",
       "  np.float64(1.5707913267962477)])"
      ]
     },
     "execution_count": 33,
     "metadata": {},
     "output_type": "execute_result"
    }
   ],
   "source": [
    "newton.optimize(np.sin, 2.5)"
   ]
  },
  {
   "cell_type": "code",
   "execution_count": null,
   "id": "8da5defa-1711-4113-8657-bdf0a1522568",
   "metadata": {},
   "outputs": [],
   "source": []
  },
  {
   "cell_type": "code",
   "execution_count": null,
   "id": "a71b710b-72de-4c91-898f-8882cd85cbfb",
   "metadata": {},
   "outputs": [],
   "source": []
  }
 ],
 "metadata": {
  "kernelspec": {
   "display_name": "Python 3 (ipykernel)",
   "language": "python",
   "name": "python3"
  },
  "language_info": {
   "codemirror_mode": {
    "name": "ipython",
    "version": 3
   },
   "file_extension": ".py",
   "mimetype": "text/x-python",
   "name": "python",
   "nbconvert_exporter": "python",
   "pygments_lexer": "ipython3",
   "version": "3.11.13"
  }
 },
 "nbformat": 4,
 "nbformat_minor": 5
}
