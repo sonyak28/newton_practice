{
 "cells": [
  {
   "cell_type": "code",
   "execution_count": 68,
   "id": "6eecae37-800c-4773-bbaa-56f67fa72a5d",
   "metadata": {},
   "outputs": [],
   "source": [
    "import numpy as np\n",
    "import pandas as pd\n",
    "import math"
   ]
  },
  {
   "cell_type": "code",
   "execution_count": 22,
   "id": "d2c23b7e-548c-4a5d-bc7a-b79d19d3f810",
   "metadata": {},
   "outputs": [],
   "source": [
    "def f(x):\n",
    "    return x ** 3"
   ]
  },
  {
   "cell_type": "code",
   "execution_count": 64,
   "id": "e22b348f-ffd4-4eda-91d8-f106eb7a51fc",
   "metadata": {},
   "outputs": [
    {
     "data": {
      "text/plain": [
       "['README.md',\n",
       " '__pycache__',\n",
       " 'newton.py',\n",
       " 'newton_exercise.ipynb',\n",
       " '.git',\n",
       " '.gitignore',\n",
       " '.ipynb_checkpoints',\n",
       " '.ruff_cache',\n",
       " 'LICENSE',\n",
       " 'test_newton.py']"
      ]
     },
     "execution_count": 64,
     "metadata": {},
     "output_type": "execute_result"
    }
   ],
   "source": [
    "import os\n",
    "# Get a list of all files and directories in the current working directory\n",
    "files_and_dirs = os.listdir('.')\n",
    "files_and_dirs\n"
   ]
  },
  {
   "cell_type": "code",
   "execution_count": 27,
   "id": "ea8755f3-77f5-4bde-ac24-b7b41a90a7a1",
   "metadata": {},
   "outputs": [
    {
     "data": {
      "text/plain": [
       "'/home/jovyan/newton_practice'"
      ]
     },
     "execution_count": 27,
     "metadata": {},
     "output_type": "execute_result"
    }
   ],
   "source": [
    "os.getcwd()\n"
   ]
  },
  {
   "cell_type": "code",
   "execution_count": 26,
   "id": "e3e92a3d-8b8e-4af7-9baf-81a29b014f74",
   "metadata": {},
   "outputs": [],
   "source": [
    "os.chdir('/home/jovyan/newton-practice')"
   ]
  },
  {
   "cell_type": "code",
   "execution_count": 23,
   "id": "97959ab7-4690-4dd2-b5d2-33a8c27f0ae5",
   "metadata": {},
   "outputs": [],
   "source": [
    "import newton"
   ]
  },
  {
   "cell_type": "code",
   "execution_count": 100,
   "id": "38b06fb1-0e18-40c3-ad08-5a559eccf911",
   "metadata": {},
   "outputs": [
    {
     "data": {
      "text/plain": [
       "<module 'newton' from '/home/jovyan/newton_practice/newton.py'>"
      ]
     },
     "execution_count": 100,
     "metadata": {},
     "output_type": "execute_result"
    }
   ],
   "source": [
    "from importlib import reload\n",
    "reload(newton)"
   ]
  },
  {
   "cell_type": "code",
   "execution_count": 83,
   "id": "fa78a63b-6191-4e8f-9b83-c30707fa605d",
   "metadata": {},
   "outputs": [],
   "source": [
    "def new_func(x):\n",
    "    return (x **4 / 4) - (x **3) - x"
   ]
  },
  {
   "cell_type": "code",
   "execution_count": 101,
   "id": "bd2bfcce-3ed4-4710-a0f9-7bb93db424fc",
   "metadata": {},
   "outputs": [
    {
     "ename": "TypeError",
     "evalue": "unsupported operand type(s) for -: 'dict' and 'float'",
     "output_type": "error",
     "traceback": [
      "\u001b[31m---------------------------------------------------------------------------\u001b[39m",
      "\u001b[31mTypeError\u001b[39m                                 Traceback (most recent call last)",
      "\u001b[36mCell\u001b[39m\u001b[36m \u001b[39m\u001b[32mIn[101]\u001b[39m\u001b[32m, line 1\u001b[39m\n\u001b[32m----> \u001b[39m\u001b[32m1\u001b[39m \u001b[43mnp\u001b[49m\u001b[43m.\u001b[49m\u001b[43misclose\u001b[49m\u001b[43m(\u001b[49m\u001b[43mnewton\u001b[49m\u001b[43m.\u001b[49m\u001b[43moptimize\u001b[49m\u001b[43m(\u001b[49m\u001b[32;43m2.95\u001b[39;49m\u001b[43m,\u001b[49m\u001b[43m \u001b[49m\u001b[43mnp\u001b[49m\u001b[43m.\u001b[49m\u001b[43mcos\u001b[49m\u001b[43m)\u001b[49m\u001b[43m,\u001b[49m\u001b[43m \u001b[49m\u001b[43mmath\u001b[49m\u001b[43m.\u001b[49m\u001b[43mpi\u001b[49m\u001b[43m)\u001b[49m\n",
      "\u001b[36mFile \u001b[39m\u001b[32m/srv/conda/lib/python3.11/site-packages/numpy/_core/numeric.py:2447\u001b[39m, in \u001b[36misclose\u001b[39m\u001b[34m(a, b, rtol, atol, equal_nan)\u001b[39m\n\u001b[32m   2444\u001b[39m     y = \u001b[38;5;28mfloat\u001b[39m(y)\n\u001b[32m   2446\u001b[39m \u001b[38;5;28;01mwith\u001b[39;00m errstate(invalid=\u001b[33m'\u001b[39m\u001b[33mignore\u001b[39m\u001b[33m'\u001b[39m):\n\u001b[32m-> \u001b[39m\u001b[32m2447\u001b[39m     result = (less_equal(\u001b[38;5;28mabs\u001b[39m(\u001b[43mx\u001b[49m\u001b[43m-\u001b[49m\u001b[43my\u001b[49m), atol + rtol * \u001b[38;5;28mabs\u001b[39m(y))\n\u001b[32m   2448\u001b[39m               & isfinite(y)\n\u001b[32m   2449\u001b[39m               | (x == y))\n\u001b[32m   2450\u001b[39m     \u001b[38;5;28;01mif\u001b[39;00m equal_nan:\n\u001b[32m   2451\u001b[39m         result |= isnan(x) & isnan(y)\n",
      "\u001b[31mTypeError\u001b[39m: unsupported operand type(s) for -: 'dict' and 'float'"
     ]
    }
   ],
   "source": [
    "np.isclose(newton.optimize(2.95, np.cos), math.pi)"
   ]
  },
  {
   "cell_type": "code",
   "execution_count": 95,
   "id": "6f457f90-3266-45b2-9273-09bd3ad17718",
   "metadata": {},
   "outputs": [
    {
     "data": {
      "text/plain": [
       "{'x': np.float64(-5.000000000000001e-06), 'value': np.float64(0.9999999999875)}"
      ]
     },
     "execution_count": 95,
     "metadata": {},
     "output_type": "execute_result"
    }
   ],
   "source": [
    "newton.optimize(0, np.cos)"
   ]
  },
  {
   "cell_type": "code",
   "execution_count": 102,
   "id": "0ea6e35e-2353-4725-9e69-188642ffa4ca",
   "metadata": {},
   "outputs": [
    {
     "ename": "TypeError",
     "evalue": "`x0` must be numeric",
     "output_type": "error",
     "traceback": [
      "\u001b[31m---------------------------------------------------------------------------\u001b[39m",
      "\u001b[31mTypeError\u001b[39m                                 Traceback (most recent call last)",
      "\u001b[36mCell\u001b[39m\u001b[36m \u001b[39m\u001b[32mIn[102]\u001b[39m\u001b[32m, line 1\u001b[39m\n\u001b[32m----> \u001b[39m\u001b[32m1\u001b[39m \u001b[43mnewton\u001b[49m\u001b[43m.\u001b[49m\u001b[43moptimize\u001b[49m\u001b[43m(\u001b[49m\u001b[43mnp\u001b[49m\u001b[43m.\u001b[49m\u001b[43mcos\u001b[49m\u001b[43m,\u001b[49m\u001b[43m \u001b[49m\u001b[32;43m2.95\u001b[39;49m\u001b[43m)\u001b[49m\n",
      "\u001b[36mFile \u001b[39m\u001b[32m~/newton_practice/newton.py:33\u001b[39m, in \u001b[36moptimize\u001b[39m\u001b[34m(starting_value, f, small_h)\u001b[39m\n\u001b[32m     31\u001b[39m \u001b[38;5;66;03m# max_iterations = 10\u001b[39;00m\n\u001b[32m     32\u001b[39m \u001b[38;5;28;01mif\u001b[39;00m \u001b[38;5;129;01mnot\u001b[39;00m \u001b[38;5;28misinstance\u001b[39m(starting_value, (\u001b[38;5;28mint\u001b[39m, \u001b[38;5;28mfloat\u001b[39m, np.number)):\n\u001b[32m---> \u001b[39m\u001b[32m33\u001b[39m     \u001b[38;5;28;01mraise\u001b[39;00m \u001b[38;5;167;01mTypeError\u001b[39;00m(\u001b[33m\"\u001b[39m\u001b[33m`x0` must be numeric\u001b[39m\u001b[33m\"\u001b[39m)\n\u001b[32m     35\u001b[39m new_x_t = starting_value - ((first_derivative(starting_value, f, small_h)) /  second_derivative(starting_value, f, small_h))\n\u001b[32m     36\u001b[39m x= starting_value\n",
      "\u001b[31mTypeError\u001b[39m: `x0` must be numeric"
     ]
    }
   ],
   "source": [
    "newton.optimize(np.cos, 2.95)"
   ]
  },
  {
   "cell_type": "code",
   "execution_count": 90,
   "id": "f750a094-7180-4987-ba2f-0ee682bbff96",
   "metadata": {},
   "outputs": [
    {
     "ename": "ZeroDivisionError",
     "evalue": "float division by zero",
     "output_type": "error",
     "traceback": [
      "\u001b[31m---------------------------------------------------------------------------\u001b[39m",
      "\u001b[31mZeroDivisionError\u001b[39m                         Traceback (most recent call last)",
      "\u001b[36mCell\u001b[39m\u001b[36m \u001b[39m\u001b[32mIn[90]\u001b[39m\u001b[32m, line 1\u001b[39m\n\u001b[32m----> \u001b[39m\u001b[32m1\u001b[39m \u001b[43mnewton\u001b[49m\u001b[43m.\u001b[49m\u001b[43moptimize\u001b[49m\u001b[43m(\u001b[49m\u001b[32;43m1\u001b[39;49m\u001b[43m,\u001b[49m\u001b[43m \u001b[49m\u001b[43mnew_func\u001b[49m\u001b[43m)\u001b[49m\n",
      "\u001b[36mFile \u001b[39m\u001b[32m~/newton_practice/newton.py:37\u001b[39m, in \u001b[36moptimize\u001b[39m\u001b[34m(starting_value, f, small_h)\u001b[39m\n\u001b[32m     35\u001b[39m \u001b[38;5;28;01mwhile\u001b[39;00m \u001b[38;5;28mabs\u001b[39m(x - new_x_t) > small_h:\n\u001b[32m     36\u001b[39m     x = new_x_t\n\u001b[32m---> \u001b[39m\u001b[32m37\u001b[39m     new_x_t = x - (\u001b[43m(\u001b[49m\u001b[43mfirst_derivative\u001b[49m\u001b[43m(\u001b[49m\u001b[43mx\u001b[49m\u001b[43m,\u001b[49m\u001b[43m \u001b[49m\u001b[43mf\u001b[49m\u001b[43m,\u001b[49m\u001b[43m \u001b[49m\u001b[43msmall_h\u001b[49m\u001b[43m)\u001b[49m\u001b[43m)\u001b[49m\u001b[43m \u001b[49m\u001b[43m/\u001b[49m\u001b[43m  \u001b[49m\u001b[43msecond_derivative\u001b[49m\u001b[43m(\u001b[49m\u001b[43mx\u001b[49m\u001b[43m,\u001b[49m\u001b[43m \u001b[49m\u001b[43mf\u001b[49m\u001b[43m,\u001b[49m\u001b[43m \u001b[49m\u001b[43msmall_h\u001b[49m\u001b[43m)\u001b[49m)\n\u001b[32m     38\u001b[39m \u001b[38;5;28;01mreturn\u001b[39;00m {\u001b[33m'\u001b[39m\u001b[33mx\u001b[39m\u001b[33m'\u001b[39m: new_x_t, \u001b[33m'\u001b[39m\u001b[33mvalue\u001b[39m\u001b[33m'\u001b[39m: f(new_x_t)}\n",
      "\u001b[31mZeroDivisionError\u001b[39m: float division by zero"
     ]
    }
   ],
   "source": [
    "newton.optimize(1, new_func)"
   ]
  },
  {
   "cell_type": "code",
   "execution_count": 81,
   "id": "51c25f2b-8188-49a9-ac8a-1db4f5b464a2",
   "metadata": {},
   "outputs": [
    {
     "name": "stdout",
     "output_type": "stream",
     "text": [
      "Help on module newton:\n",
      "\n",
      "NAME\n",
      "    newton\n",
      "\n",
      "FUNCTIONS\n",
      "    first_derivative(x, f, small_h=1e-05)\n",
      "        Takes the first derivative \n",
      "        \n",
      "        Parameters:\n",
      "        f - the same function that is passed into optimize()\n",
      "        x - the same integer that is passed in as starting_value into optimize()\n",
      "        small_h - the same optional parameter that is passed into optimize(); default number is 10**-5\n",
      "    \n",
      "    optimize(starting_value, f, small_h=1e-05)\n",
      "        Function for Newton’s method for optimization\n",
      "        \n",
      "        Parameters:\n",
      "        f - function to be passed into (ex: np.cos)\n",
      "        starting values - an int (ex: 10)\n",
      "        small_h - optional parameter; default number is 10**-5\n",
      "    \n",
      "    second_derivative(x, f, small_h=1e-05)\n",
      "        Takes the second derivative \n",
      "        \n",
      "        Parameters:\n",
      "        f - the same function that is passed into optimize()\n",
      "        x - the same integer that is passed in as starting_value into optimize()\n",
      "        small_h - the same optional parameter that is passed into optimize(); default number is 10**-5\n",
      "\n",
      "FILE\n",
      "    /home/jovyan/newton_practice/newton.py\n",
      "\n",
      "\n"
     ]
    }
   ],
   "source": [
    "help(newton)"
   ]
  },
  {
   "cell_type": "code",
   "execution_count": 4,
   "id": "8da5defa-1711-4113-8657-bdf0a1522568",
   "metadata": {
    "scrolled": true
   },
   "outputs": [
    {
     "name": "stdout",
     "output_type": "stream",
     "text": [
      "Help on _ArrayFunctionDispatcher in module numpy.linalg:\n",
      "\n",
      "cholesky(a, /, *, upper=False)\n",
      "    Cholesky decomposition.\n",
      "    \n",
      "    Return the lower or upper Cholesky decomposition, ``L * L.H`` or\n",
      "    ``U.H * U``, of the square matrix ``a``, where ``L`` is lower-triangular,\n",
      "    ``U`` is upper-triangular, and ``.H`` is the conjugate transpose operator\n",
      "    (which is the ordinary transpose if ``a`` is real-valued). ``a`` must be\n",
      "    Hermitian (symmetric if real-valued) and positive-definite. No checking is\n",
      "    performed to verify whether ``a`` is Hermitian or not. In addition, only\n",
      "    the lower or upper-triangular and diagonal elements of ``a`` are used.\n",
      "    Only ``L`` or ``U`` is actually returned.\n",
      "    \n",
      "    Parameters\n",
      "    ----------\n",
      "    a : (..., M, M) array_like\n",
      "        Hermitian (symmetric if all elements are real), positive-definite\n",
      "        input matrix.\n",
      "    upper : bool\n",
      "        If ``True``, the result must be the upper-triangular Cholesky factor.\n",
      "        If ``False``, the result must be the lower-triangular Cholesky factor.\n",
      "        Default: ``False``.\n",
      "    \n",
      "    Returns\n",
      "    -------\n",
      "    L : (..., M, M) array_like\n",
      "        Lower or upper-triangular Cholesky factor of `a`. Returns a matrix\n",
      "        object if `a` is a matrix object.\n",
      "    \n",
      "    Raises\n",
      "    ------\n",
      "    LinAlgError\n",
      "       If the decomposition fails, for example, if `a` is not\n",
      "       positive-definite.\n",
      "    \n",
      "    See Also\n",
      "    --------\n",
      "    scipy.linalg.cholesky : Similar function in SciPy.\n",
      "    scipy.linalg.cholesky_banded : Cholesky decompose a banded Hermitian\n",
      "                                   positive-definite matrix.\n",
      "    scipy.linalg.cho_factor : Cholesky decomposition of a matrix, to use in\n",
      "                              `scipy.linalg.cho_solve`.\n",
      "    \n",
      "    Notes\n",
      "    -----\n",
      "    Broadcasting rules apply, see the `numpy.linalg` documentation for\n",
      "    details.\n",
      "    \n",
      "    The Cholesky decomposition is often used as a fast way of solving\n",
      "    \n",
      "    .. math:: A \\mathbf{x} = \\mathbf{b}\n",
      "    \n",
      "    (when `A` is both Hermitian/symmetric and positive-definite).\n",
      "    \n",
      "    First, we solve for :math:`\\mathbf{y}` in\n",
      "    \n",
      "    .. math:: L \\mathbf{y} = \\mathbf{b},\n",
      "    \n",
      "    and then for :math:`\\mathbf{x}` in\n",
      "    \n",
      "    .. math:: L^{H} \\mathbf{x} = \\mathbf{y}.\n",
      "    \n",
      "    Examples\n",
      "    --------\n",
      "    >>> import numpy as np\n",
      "    >>> A = np.array([[1,-2j],[2j,5]])\n",
      "    >>> A\n",
      "    array([[ 1.+0.j, -0.-2.j],\n",
      "           [ 0.+2.j,  5.+0.j]])\n",
      "    >>> L = np.linalg.cholesky(A)\n",
      "    >>> L\n",
      "    array([[1.+0.j, 0.+0.j],\n",
      "           [0.+2.j, 1.+0.j]])\n",
      "    >>> np.dot(L, L.T.conj()) # verify that L * L.H = A\n",
      "    array([[1.+0.j, 0.-2.j],\n",
      "           [0.+2.j, 5.+0.j]])\n",
      "    >>> A = [[1,-2j],[2j,5]] # what happens if A is only array_like?\n",
      "    >>> np.linalg.cholesky(A) # an ndarray object is returned\n",
      "    array([[1.+0.j, 0.+0.j],\n",
      "           [0.+2.j, 1.+0.j]])\n",
      "    >>> # But a matrix object is returned if A is a matrix object\n",
      "    >>> np.linalg.cholesky(np.matrix(A))\n",
      "    matrix([[ 1.+0.j,  0.+0.j],\n",
      "            [ 0.+2.j,  1.+0.j]])\n",
      "    >>> # The upper-triangular Cholesky factor can also be obtained.\n",
      "    >>> np.linalg.cholesky(A, upper=True)\n",
      "    array([[1.-0.j, 0.-2.j],\n",
      "           [0.-0.j, 1.-0.j]])\n",
      "\n"
     ]
    }
   ],
   "source": [
    "help(np.linalg.cholesky)"
   ]
  },
  {
   "cell_type": "markdown",
   "id": "8e995e03-c9c7-4c91-84af-3aa5989ff908",
   "metadata": {},
   "source": [
    "## Magic Commands"
   ]
  },
  {
   "cell_type": "code",
   "execution_count": 27,
   "id": "e05d7060-cb54-4451-9591-127bb099091b",
   "metadata": {},
   "outputs": [
    {
     "name": "stdout",
     "output_type": "stream",
     "text": [
      "> \u001b[32m/home/jovyan/newton_practice/newton.py\u001b[39m(\u001b[92m31\u001b[39m)\u001b[36moptimize\u001b[39m\u001b[34m()\u001b[39m\n",
      "\u001b[32m     29\u001b[39m     small_h - optional parameter; default number \u001b[38;5;28;01mis\u001b[39;00m \u001b[32m10\u001b[39m**-\u001b[32m5\u001b[39m\n",
      "\u001b[32m     30\u001b[39m     \"\"\"\n",
      "\u001b[32m---> 31\u001b[39m     print(somevar)\n",
      "\u001b[32m     32\u001b[39m     max_iterations = \u001b[32m10\u001b[39m\n",
      "\u001b[32m     33\u001b[39m     history = [starting_value]\n",
      "\n"
     ]
    },
    {
     "name": "stdin",
     "output_type": "stream",
     "text": [
      "ipdb>  u\n"
     ]
    },
    {
     "name": "stdout",
     "output_type": "stream",
     "text": [
      "> \u001b[32m/tmp/ipykernel_105/4109606183.py\u001b[39m(\u001b[92m2\u001b[39m)\u001b[36m<module>\u001b[39m\u001b[34m()\u001b[39m\n",
      "\u001b[32m      1\u001b[39m get_ipython().run_line_magic(\u001b[33m'debug'\u001b[39m, \u001b[33m''\u001b[39m)\n",
      "\u001b[32m----> 2\u001b[39m newton.optimize(np.cos, \u001b[32m2.95\u001b[39m)\n",
      "\n"
     ]
    },
    {
     "name": "stdin",
     "output_type": "stream",
     "text": [
      "ipdb>  n\n"
     ]
    },
    {
     "ename": "NameError",
     "evalue": "name 'somevar' is not defined",
     "output_type": "error",
     "traceback": [
      "\u001b[31m---------------------------------------------------------------------------\u001b[39m",
      "\u001b[31mNameError\u001b[39m                                 Traceback (most recent call last)",
      "\u001b[36mCell\u001b[39m\u001b[36m \u001b[39m\u001b[32mIn[27]\u001b[39m\u001b[32m, line 2\u001b[39m\n\u001b[32m      1\u001b[39m get_ipython().run_line_magic(\u001b[33m'\u001b[39m\u001b[33mdebug\u001b[39m\u001b[33m'\u001b[39m, \u001b[33m'\u001b[39m\u001b[33m'\u001b[39m)\n\u001b[32m----> \u001b[39m\u001b[32m2\u001b[39m \u001b[43mnewton\u001b[49m\u001b[43m.\u001b[49m\u001b[43moptimize\u001b[49m\u001b[43m(\u001b[49m\u001b[43mnp\u001b[49m\u001b[43m.\u001b[49m\u001b[43mcos\u001b[49m\u001b[43m,\u001b[49m\u001b[43m \u001b[49m\u001b[32;43m2.95\u001b[39;49m\u001b[43m)\u001b[49m\n",
      "\u001b[36mFile \u001b[39m\u001b[32m~/newton_practice/newton.py:31\u001b[39m, in \u001b[36moptimize\u001b[39m\u001b[34m(f, starting_value, small_h)\u001b[39m\n\u001b[32m     23\u001b[39m \u001b[38;5;28;01mdef\u001b[39;00m\u001b[38;5;250m \u001b[39m\u001b[34moptimize\u001b[39m(f, starting_value, small_h=\u001b[32m10\u001b[39m**-\u001b[32m5\u001b[39m):\n\u001b[32m     24\u001b[39m \u001b[38;5;250m    \u001b[39m\u001b[33;03m\"\"\" Function for Newton’s method for optimization\u001b[39;00m\n\u001b[32m     25\u001b[39m \n\u001b[32m     26\u001b[39m \u001b[33;03m    Parameters:\u001b[39;00m\n\u001b[32m   (...)\u001b[39m\u001b[32m     29\u001b[39m \u001b[33;03m    small_h - optional parameter; default number is 10**-5\u001b[39;00m\n\u001b[32m     30\u001b[39m \u001b[33;03m    \"\"\"\u001b[39;00m\n\u001b[32m---> \u001b[39m\u001b[32m31\u001b[39m     \u001b[38;5;28mprint\u001b[39m(\u001b[43msomevar\u001b[49m)\n\u001b[32m     32\u001b[39m     max_iterations = \u001b[32m10\u001b[39m\n\u001b[32m     33\u001b[39m     history = [starting_value]\n",
      "\u001b[31mNameError\u001b[39m: name 'somevar' is not defined"
     ]
    }
   ],
   "source": [
    "%debug\n",
    "newton.optimize(np.cos, 2.95)"
   ]
  },
  {
   "cell_type": "code",
   "execution_count": null,
   "id": "42ecf8bb-a198-47d2-8449-e59450239f25",
   "metadata": {},
   "outputs": [],
   "source": []
  }
 ],
 "metadata": {
  "kernelspec": {
   "display_name": "Python 3 (ipykernel)",
   "language": "python",
   "name": "python3"
  },
  "language_info": {
   "codemirror_mode": {
    "name": "ipython",
    "version": 3
   },
   "file_extension": ".py",
   "mimetype": "text/x-python",
   "name": "python",
   "nbconvert_exporter": "python",
   "pygments_lexer": "ipython3",
   "version": "3.11.13"
  }
 },
 "nbformat": 4,
 "nbformat_minor": 5
}
