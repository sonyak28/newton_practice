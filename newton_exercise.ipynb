{
 "cells": [
  {
   "cell_type": "code",
   "execution_count": 3,
   "id": "6eecae37-800c-4773-bbaa-56f67fa72a5d",
   "metadata": {},
   "outputs": [],
   "source": [
    "import numpy as np\n",
    "import pandas as pd"
   ]
  },
  {
   "cell_type": "code",
   "execution_count": 22,
   "id": "d2c23b7e-548c-4a5d-bc7a-b79d19d3f810",
   "metadata": {},
   "outputs": [],
   "source": [
    "def f(x):\n",
    "    return x ** 3"
   ]
  },
  {
   "cell_type": "code",
   "execution_count": 23,
   "id": "e22b348f-ffd4-4eda-91d8-f106eb7a51fc",
   "metadata": {},
   "outputs": [
    {
     "data": {
      "text/plain": [
       "['.jupyter',\n",
       " '.ipython',\n",
       " '.config',\n",
       " '.local',\n",
       " '.bash_history',\n",
       " '__pycache__',\n",
       " 'newton_practice',\n",
       " '.cache',\n",
       " 'WHERE-ARE-MY-FILES.txt',\n",
       " 'Assignment_2_Named_Entity_Recognition_with_BERT.ipynb',\n",
       " '.gitconfig',\n",
       " 'compute-skills-2025',\n",
       " '.datahub-rstudio',\n",
       " '.rstudio',\n",
       " '.npm',\n",
       " '.ipynb_checkpoints',\n",
       " '.lesshst']"
      ]
     },
     "execution_count": 23,
     "metadata": {},
     "output_type": "execute_result"
    }
   ],
   "source": [
    "import os\n",
    "# Get a list of all files and directories in the current working directory\n",
    "files_and_dirs = os.listdir('.')\n",
    "files_and_dirs\n"
   ]
  },
  {
   "cell_type": "code",
   "execution_count": 27,
   "id": "ea8755f3-77f5-4bde-ac24-b7b41a90a7a1",
   "metadata": {},
   "outputs": [
    {
     "data": {
      "text/plain": [
       "'/home/jovyan/newton_practice'"
      ]
     },
     "execution_count": 27,
     "metadata": {},
     "output_type": "execute_result"
    }
   ],
   "source": [
    "os.getcwd()\n"
   ]
  },
  {
   "cell_type": "code",
   "execution_count": 26,
   "id": "e3e92a3d-8b8e-4af7-9baf-81a29b014f74",
   "metadata": {},
   "outputs": [],
   "source": [
    "os.chdir('/home/jovyan/newton_practice')"
   ]
  },
  {
   "cell_type": "code",
   "execution_count": 9,
   "id": "97959ab7-4690-4dd2-b5d2-33a8c27f0ae5",
   "metadata": {},
   "outputs": [],
   "source": [
    "import newton"
   ]
  },
  {
   "cell_type": "code",
   "execution_count": 10,
   "id": "38b06fb1-0e18-40c3-ad08-5a559eccf911",
   "metadata": {},
   "outputs": [
    {
     "data": {
      "text/plain": [
       "<module 'newton' from '/home/jovyan/newton_practice/newton.py'>"
      ]
     },
     "execution_count": 10,
     "metadata": {},
     "output_type": "execute_result"
    }
   ],
   "source": [
    "from importlib import reload\n",
    "reload(newton)"
   ]
  },
  {
   "cell_type": "code",
   "execution_count": 11,
   "id": "f750a094-7180-4987-ba2f-0ee682bbff96",
   "metadata": {},
   "outputs": [
    {
     "data": {
      "text/plain": [
       "(np.float64(1.5707913267962477),\n",
       " [2.5,\n",
       "  np.float64(1.1613250551992684),\n",
       "  np.float64(1.5953210717049289),\n",
       "  np.float64(1.5707864069543434),\n",
       "  np.float64(1.5707913267962477),\n",
       "  np.float64(1.5707913267962477),\n",
       "  np.float64(1.5707913267962477),\n",
       "  np.float64(1.5707913267962477),\n",
       "  np.float64(1.5707913267962477),\n",
       "  np.float64(1.5707913267962477),\n",
       "  np.float64(1.5707913267962477)])"
      ]
     },
     "execution_count": 11,
     "metadata": {},
     "output_type": "execute_result"
    }
   ],
   "source": [
    "newton.optimize(np.sin, 2.5)"
   ]
  },
  {
   "cell_type": "code",
   "execution_count": 12,
   "id": "51c25f2b-8188-49a9-ac8a-1db4f5b464a2",
   "metadata": {},
   "outputs": [
    {
     "name": "stdout",
     "output_type": "stream",
     "text": [
      "Help on module newton:\n",
      "\n",
      "NAME\n",
      "    newton\n",
      "\n",
      "FUNCTIONS\n",
      "    first_derivative(f, x, small_h=1e-05)\n",
      "        Takes the first derivative \n",
      "        \n",
      "        Parameters:\n",
      "        f - the same function that is passed into optimize()\n",
      "        x - the same integer that is passed in as starting_value into optimize()\n",
      "        small_h - the same optional parameter that is passed into optimize(); default number is 10**-5\n",
      "    \n",
      "    optimize(f, starting_value, small_h=1e-05)\n",
      "        Function for Newton’s method for optimization\n",
      "        \n",
      "        Parameters:\n",
      "        f - function to be passed into (ex: np.cos)\n",
      "        starting values - an int (ex: 10)\n",
      "        small_h - optional parameter; default number is 10**-5\n",
      "    \n",
      "    second_derivative(f, x, small_h=1e-05)\n",
      "        Takes the second derivative \n",
      "        \n",
      "        Parameters:\n",
      "        f - the same function that is passed into optimize()\n",
      "        x - the same integer that is passed in as starting_value into optimize()\n",
      "        small_h - the same optional parameter that is passed into optimize(); default number is 10**-5\n",
      "\n",
      "FILE\n",
      "    /home/jovyan/newton_practice/newton.py\n",
      "\n",
      "\n"
     ]
    }
   ],
   "source": [
    "help(newton)"
   ]
  },
  {
   "cell_type": "code",
   "execution_count": 4,
   "id": "8da5defa-1711-4113-8657-bdf0a1522568",
   "metadata": {
    "scrolled": true
   },
   "outputs": [
    {
     "name": "stdout",
     "output_type": "stream",
     "text": [
      "Help on _ArrayFunctionDispatcher in module numpy.linalg:\n",
      "\n",
      "cholesky(a, /, *, upper=False)\n",
      "    Cholesky decomposition.\n",
      "    \n",
      "    Return the lower or upper Cholesky decomposition, ``L * L.H`` or\n",
      "    ``U.H * U``, of the square matrix ``a``, where ``L`` is lower-triangular,\n",
      "    ``U`` is upper-triangular, and ``.H`` is the conjugate transpose operator\n",
      "    (which is the ordinary transpose if ``a`` is real-valued). ``a`` must be\n",
      "    Hermitian (symmetric if real-valued) and positive-definite. No checking is\n",
      "    performed to verify whether ``a`` is Hermitian or not. In addition, only\n",
      "    the lower or upper-triangular and diagonal elements of ``a`` are used.\n",
      "    Only ``L`` or ``U`` is actually returned.\n",
      "    \n",
      "    Parameters\n",
      "    ----------\n",
      "    a : (..., M, M) array_like\n",
      "        Hermitian (symmetric if all elements are real), positive-definite\n",
      "        input matrix.\n",
      "    upper : bool\n",
      "        If ``True``, the result must be the upper-triangular Cholesky factor.\n",
      "        If ``False``, the result must be the lower-triangular Cholesky factor.\n",
      "        Default: ``False``.\n",
      "    \n",
      "    Returns\n",
      "    -------\n",
      "    L : (..., M, M) array_like\n",
      "        Lower or upper-triangular Cholesky factor of `a`. Returns a matrix\n",
      "        object if `a` is a matrix object.\n",
      "    \n",
      "    Raises\n",
      "    ------\n",
      "    LinAlgError\n",
      "       If the decomposition fails, for example, if `a` is not\n",
      "       positive-definite.\n",
      "    \n",
      "    See Also\n",
      "    --------\n",
      "    scipy.linalg.cholesky : Similar function in SciPy.\n",
      "    scipy.linalg.cholesky_banded : Cholesky decompose a banded Hermitian\n",
      "                                   positive-definite matrix.\n",
      "    scipy.linalg.cho_factor : Cholesky decomposition of a matrix, to use in\n",
      "                              `scipy.linalg.cho_solve`.\n",
      "    \n",
      "    Notes\n",
      "    -----\n",
      "    Broadcasting rules apply, see the `numpy.linalg` documentation for\n",
      "    details.\n",
      "    \n",
      "    The Cholesky decomposition is often used as a fast way of solving\n",
      "    \n",
      "    .. math:: A \\mathbf{x} = \\mathbf{b}\n",
      "    \n",
      "    (when `A` is both Hermitian/symmetric and positive-definite).\n",
      "    \n",
      "    First, we solve for :math:`\\mathbf{y}` in\n",
      "    \n",
      "    .. math:: L \\mathbf{y} = \\mathbf{b},\n",
      "    \n",
      "    and then for :math:`\\mathbf{x}` in\n",
      "    \n",
      "    .. math:: L^{H} \\mathbf{x} = \\mathbf{y}.\n",
      "    \n",
      "    Examples\n",
      "    --------\n",
      "    >>> import numpy as np\n",
      "    >>> A = np.array([[1,-2j],[2j,5]])\n",
      "    >>> A\n",
      "    array([[ 1.+0.j, -0.-2.j],\n",
      "           [ 0.+2.j,  5.+0.j]])\n",
      "    >>> L = np.linalg.cholesky(A)\n",
      "    >>> L\n",
      "    array([[1.+0.j, 0.+0.j],\n",
      "           [0.+2.j, 1.+0.j]])\n",
      "    >>> np.dot(L, L.T.conj()) # verify that L * L.H = A\n",
      "    array([[1.+0.j, 0.-2.j],\n",
      "           [0.+2.j, 5.+0.j]])\n",
      "    >>> A = [[1,-2j],[2j,5]] # what happens if A is only array_like?\n",
      "    >>> np.linalg.cholesky(A) # an ndarray object is returned\n",
      "    array([[1.+0.j, 0.+0.j],\n",
      "           [0.+2.j, 1.+0.j]])\n",
      "    >>> # But a matrix object is returned if A is a matrix object\n",
      "    >>> np.linalg.cholesky(np.matrix(A))\n",
      "    matrix([[ 1.+0.j,  0.+0.j],\n",
      "            [ 0.+2.j,  1.+0.j]])\n",
      "    >>> # The upper-triangular Cholesky factor can also be obtained.\n",
      "    >>> np.linalg.cholesky(A, upper=True)\n",
      "    array([[1.-0.j, 0.-2.j],\n",
      "           [0.-0.j, 1.-0.j]])\n",
      "\n"
     ]
    }
   ],
   "source": [
    "help(np.linalg.cholesky)"
   ]
  },
  {
   "cell_type": "code",
   "execution_count": null,
   "id": "a71b710b-72de-4c91-898f-8882cd85cbfb",
   "metadata": {},
   "outputs": [],
   "source": []
  }
 ],
 "metadata": {
  "kernelspec": {
   "display_name": "Python 3 (ipykernel)",
   "language": "python",
   "name": "python3"
  },
  "language_info": {
   "codemirror_mode": {
    "name": "ipython",
    "version": 3
   },
   "file_extension": ".py",
   "mimetype": "text/x-python",
   "name": "python",
   "nbconvert_exporter": "python",
   "pygments_lexer": "ipython3",
   "version": "3.11.13"
  }
 },
 "nbformat": 4,
 "nbformat_minor": 5
}
